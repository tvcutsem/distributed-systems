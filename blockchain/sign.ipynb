{
 "cells": [
  {
   "cell_type": "markdown",
   "metadata": {},
   "source": [
    "# digital signatures"
   ]
  },
  {
   "cell_type": "code",
   "execution_count": null,
   "metadata": {},
   "outputs": [],
   "source": [
    "# Install a pip package in the current Jupyter kernel\n",
    "# from: https://note.nkmk.me/en/python-pip-install-requirements/\n",
    "import sys\n",
    "!{sys.executable} -m pip install pycoin==0.80"
   ]
  },
  {
   "cell_type": "code",
   "execution_count": 10,
   "metadata": {},
   "outputs": [],
   "source": [
    "# Adapted from: S. Nakov, \"Practical Cryptography for Developers\"\n",
    "# https://cryptobook.nakov.com/digital-signatures/ecdsa-sign-verify-examples\n",
    "\n",
    "# Uses ECDSA (using the elliptic curve secp256k1 + SHA3-256 hash algorithm)\n",
    "\n",
    "from pycoin.ecdsa import generator_secp256k1, sign as signECDSA, verify as verifyECDSA\n",
    "import hashlib, secrets\n",
    "\n",
    "def sha3_256Hash(msg):\n",
    "    hashBytes = hashlib.sha3_256(msg.encode(\"utf8\")).digest()\n",
    "    return int.from_bytes(hashBytes, byteorder=\"big\")\n",
    "\n",
    "def genKeyPair():\n",
    "    privKey = secrets.randbelow(generator_secp256k1.order())\n",
    "    pubKey = (generator_secp256k1 * privKey).pair()\n",
    "    return [privKey, pubKey]\n",
    "\n",
    "def sign(msg, privKey):\n",
    "    msgHash = sha3_256Hash(msg)\n",
    "    signature = signECDSA(generator_secp256k1, privKey, msgHash)\n",
    "    return signature\n",
    "\n",
    "def verify(msg, signature, pubKey):\n",
    "    msgHash = sha3_256Hash(msg)\n",
    "    valid = verifyECDSA(generator_secp256k1, pubKey, msgHash, signature)\n",
    "    return valid"
   ]
  },
  {
   "cell_type": "markdown",
   "metadata": {},
   "source": [
    "## Key generation"
   ]
  },
  {
   "cell_type": "code",
   "execution_count": 11,
   "metadata": {},
   "outputs": [
    {
     "data": {
      "text/plain": [
       "{'privKey': '0x691e0ff11a797f02bf4654d95e86c69171fdeef7c9638b79f5e5df85d2932c19',\n",
       " 'pubKey': {'x': '0x1a16b7579cf04615c501d2a65e2e98f0c4b498de395d26714f8be99595b6b977',\n",
       "  'y': '0x8d055c006c24102e22b26828d93be85a161865a33b6983a250f3f1cad0a0222f'}}"
      ]
     },
     "execution_count": 11,
     "metadata": {},
     "output_type": "execute_result"
    }
   ],
   "source": [
    "[privKey, pubKey] = genKeyPair()\n",
    "\n",
    "{\"privKey\": hex(privKey),\n",
    " \"pubKey\": {\n",
    "    \"x\": hex(pubKey[0]),\n",
    "    \"y\": hex(pubKey[1])\n",
    " }\n",
    "}\n"
   ]
  },
  {
   "cell_type": "markdown",
   "metadata": {},
   "source": [
    "## Signing a message\n",
    "\n",
    "Sign a message using the private key:"
   ]
  },
  {
   "cell_type": "code",
   "execution_count": 12,
   "metadata": {},
   "outputs": [
    {
     "data": {
      "text/plain": [
       "{'message': 'alice pays bob $10',\n",
       " 'signature': {'r': '0xc8dacf19c758e4a2556d9ffbab95254e6a7782df00d61c4f3d4c3e4af6663b5d',\n",
       "  's': '0x4475a3c4a8e1e6cf647a252dcd4b90eb3ac896a2cd8800a1d7ff925a18ef05e8'}}"
      ]
     },
     "execution_count": 12,
     "metadata": {},
     "output_type": "execute_result"
    }
   ],
   "source": [
    "msg = \"alice pays bob $10\"\n",
    "\n",
    "signature = sign(msg, privKey)\n",
    "\n",
    "{\"message\": msg,\n",
    " \"signature\": {\n",
    "    \"r\": hex(signature[0]),\n",
    "    \"s\": hex(signature[1])\n",
    "}}"
   ]
  },
  {
   "cell_type": "markdown",
   "metadata": {},
   "source": [
    "## Verifying a signature\n",
    "\n",
    "Verify signature of a valid signed message:"
   ]
  },
  {
   "cell_type": "code",
   "execution_count": 13,
   "metadata": {},
   "outputs": [
    {
     "data": {
      "text/plain": [
       "{'message': 'alice pays bob $10', 'signature valid?': True}"
      ]
     },
     "execution_count": 13,
     "metadata": {},
     "output_type": "execute_result"
    }
   ],
   "source": [
    "valid = verify(msg, signature, pubKey)\n",
    "\n",
    "{\"message\": msg,\n",
    " \"signature valid?\": valid}"
   ]
  },
  {
   "cell_type": "markdown",
   "metadata": {},
   "source": [
    "Verify signature of a tampered message:\n"
   ]
  },
  {
   "cell_type": "code",
   "execution_count": 14,
   "metadata": {},
   "outputs": [
    {
     "data": {
      "text/plain": [
       "{'message': 'alice pays bob $100', 'signature valid?': False}"
      ]
     },
     "execution_count": 14,
     "metadata": {},
     "output_type": "execute_result"
    }
   ],
   "source": [
    "msg2 = \"alice pays bob $100\"\n",
    "\n",
    "valid = verify(msg2, signature, pubKey)\n",
    "\n",
    "{\"message\": msg2,\n",
    " \"signature valid?\": valid}"
   ]
  }
 ],
 "metadata": {
  "kernelspec": {
   "display_name": "Python 3.9.6 64-bit",
   "language": "python",
   "name": "python3"
  },
  "language_info": {
   "codemirror_mode": {
    "name": "ipython",
    "version": 3
   },
   "file_extension": ".py",
   "mimetype": "text/x-python",
   "name": "python",
   "nbconvert_exporter": "python",
   "pygments_lexer": "ipython3",
   "version": "3.9.6"
  },
  "orig_nbformat": 4,
  "vscode": {
   "interpreter": {
    "hash": "31f2aee4e71d21fbe5cf8b01ff0e069b9275f58929596ceb00d14d90e3e16cd6"
   }
  }
 },
 "nbformat": 4,
 "nbformat_minor": 2
}
