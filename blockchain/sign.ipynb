{
 "cells": [
  {
   "cell_type": "markdown",
   "metadata": {},
   "source": [
    "# Digital signatures"
   ]
  },
  {
   "cell_type": "code",
   "execution_count": null,
   "metadata": {},
   "outputs": [],
   "source": [
    "# Install a pip package in the current Jupyter kernel\n",
    "# from: https://note.nkmk.me/en/python-pip-install-requirements/\n",
    "import sys\n",
    "!{sys.executable} -m pip install pycoin==0.80"
   ]
  },
  {
   "cell_type": "code",
   "execution_count": 2,
   "metadata": {},
   "outputs": [],
   "source": [
    "# Adapted from: S. Nakov, \"Practical Cryptography for Developers\"\n",
    "# https://cryptobook.nakov.com/digital-signatures/ecdsa-sign-verify-examples\n",
    "\n",
    "# Uses ECDSA (using the elliptic curve secp256k1 + SHA3-256 hash algorithm)\n",
    "\n",
    "from pycoin.ecdsa import generator_secp256k1, sign as signECDSA, verify as verifyECDSA\n",
    "import hashlib, secrets\n",
    "\n",
    "def sha3_256Hash(msg):\n",
    "    hashBytes = hashlib.sha3_256(msg.encode(\"utf8\")).digest()\n",
    "    return int.from_bytes(hashBytes, byteorder=\"big\")\n",
    "\n",
    "def genKeyPair():\n",
    "    privKey = secrets.randbelow(generator_secp256k1.order())\n",
    "    pubKey = (generator_secp256k1 * privKey).pair()\n",
    "    return [privKey, pubKey]\n",
    "\n",
    "def sign(msg, privKey):\n",
    "    msgHash = sha3_256Hash(msg)\n",
    "    signature = signECDSA(generator_secp256k1, privKey, msgHash)\n",
    "    return signature\n",
    "\n",
    "def verify(msg, signature, pubKey):\n",
    "    msgHash = sha3_256Hash(msg)\n",
    "    valid = verifyECDSA(generator_secp256k1, pubKey, msgHash, signature)\n",
    "    return valid"
   ]
  },
  {
   "cell_type": "markdown",
   "metadata": {},
   "source": [
    "## Key generation"
   ]
  },
  {
   "cell_type": "code",
   "execution_count": 3,
   "metadata": {},
   "outputs": [
    {
     "data": {
      "text/plain": [
       "{'privKey': '0xfa77f7bece16031bf9e9575a6fad2b66698b74e782778014a718f665bc4cc28e',\n",
       " 'pubKey': {'x': '0xd23675c35f7590395481fb1b216f4ed9528a2d8633f3ebb6ecee969d7b181dcb',\n",
       "  'y': '0xfd5168664c68fb35d69db2218b145fbfe70ee2d47cbf29063d281b012d6123aa'}}"
      ]
     },
     "execution_count": 3,
     "metadata": {},
     "output_type": "execute_result"
    }
   ],
   "source": [
    "[privKey, pubKey] = genKeyPair()\n",
    "\n",
    "{\"privKey\": hex(privKey),\n",
    " \"pubKey\": {\n",
    "    \"x\": hex(pubKey[0]),\n",
    "    \"y\": hex(pubKey[1])\n",
    " }\n",
    "}\n"
   ]
  },
  {
   "cell_type": "markdown",
   "metadata": {},
   "source": [
    "## Signing a message\n",
    "\n",
    "Sign a message using the private key:"
   ]
  },
  {
   "cell_type": "code",
   "execution_count": 4,
   "metadata": {},
   "outputs": [
    {
     "data": {
      "text/plain": [
       "{'message': 'alice pays bob $10',\n",
       " 'signature': {'r': '0x4a34586cdf54836d3a4b4c7ce5fb1c61e92b73deaa2e59dd29b266a98531530a',\n",
       "  's': '0xc737e56823ea4a4375c2a814c8df9e606ffe4f5287ac7aa417140de236b3a561'}}"
      ]
     },
     "execution_count": 4,
     "metadata": {},
     "output_type": "execute_result"
    }
   ],
   "source": [
    "msg = \"alice pays bob $10\"\n",
    "\n",
    "signature = sign(msg, privKey)\n",
    "\n",
    "{\"message\": msg,\n",
    " \"signature\": {\n",
    "    \"r\": hex(signature[0]),\n",
    "    \"s\": hex(signature[1])\n",
    "}}"
   ]
  },
  {
   "cell_type": "markdown",
   "metadata": {},
   "source": [
    "## Verifying a signature\n",
    "\n",
    "Verify signature of a valid signed message:"
   ]
  },
  {
   "cell_type": "code",
   "execution_count": 5,
   "metadata": {},
   "outputs": [
    {
     "data": {
      "text/plain": [
       "{'message': 'alice pays bob $10', 'signature valid?': True}"
      ]
     },
     "execution_count": 5,
     "metadata": {},
     "output_type": "execute_result"
    }
   ],
   "source": [
    "valid = verify(msg, signature, pubKey)\n",
    "\n",
    "{\"message\": msg,\n",
    " \"signature valid?\": valid}"
   ]
  },
  {
   "cell_type": "markdown",
   "metadata": {},
   "source": [
    "Verify signature of a tampered message:\n"
   ]
  },
  {
   "cell_type": "code",
   "execution_count": 6,
   "metadata": {},
   "outputs": [
    {
     "data": {
      "text/plain": [
       "{'message': 'alice pays bob $100', 'signature valid?': False}"
      ]
     },
     "execution_count": 6,
     "metadata": {},
     "output_type": "execute_result"
    }
   ],
   "source": [
    "msg2 = \"alice pays bob $100\"\n",
    "\n",
    "valid = verify(msg2, signature, pubKey)\n",
    "\n",
    "{\"message\": msg2,\n",
    " \"signature valid?\": valid}"
   ]
  }
 ],
 "metadata": {
  "kernelspec": {
   "display_name": "Python 3.9.6 64-bit",
   "language": "python",
   "name": "python3"
  },
  "language_info": {
   "codemirror_mode": {
    "name": "ipython",
    "version": 3
   },
   "file_extension": ".py",
   "mimetype": "text/x-python",
   "name": "python",
   "nbconvert_exporter": "python",
   "pygments_lexer": "ipython3",
   "version": "3.9.6"
  },
  "orig_nbformat": 4,
  "vscode": {
   "interpreter": {
    "hash": "31f2aee4e71d21fbe5cf8b01ff0e069b9275f58929596ceb00d14d90e3e16cd6"
   }
  }
 },
 "nbformat": 4,
 "nbformat_minor": 2
}
