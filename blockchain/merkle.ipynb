{
 "cells": [
  {
   "cell_type": "markdown",
   "metadata": {},
   "source": [
    "# Merkle trees\n",
    "\n",
    "[Merkle trees](https://en.wikipedia.org/wiki/Merkle_tree) enable efficient and cryptographically secure membership tests: a prover can convince a verifier that a given element `x` is part of a given set."
   ]
  },
  {
   "cell_type": "code",
   "execution_count": null,
   "metadata": {},
   "outputs": [],
   "source": [
    "# We're using https://github.com/Tierion/pymerkletools\n",
    "import sys\n",
    "!{sys.executable} -m pip install merkletools\n"
   ]
  },
  {
   "cell_type": "code",
   "execution_count": 2,
   "metadata": {},
   "outputs": [],
   "source": [
    "from merkletools import MerkleTools\n",
    "\n",
    "mt = MerkleTools(hash_type=\"sha256\")\n",
    "mt.add_leaf([\"values\", \"stored\", \"in\", \"a\", \"merkle\", \"tree\"], True)\n",
    "mt.make_tree()"
   ]
  },
  {
   "cell_type": "markdown",
   "metadata": {},
   "source": [
    "What is actually stored in the tree are the hashes of the leaves:"
   ]
  },
  {
   "cell_type": "code",
   "execution_count": 4,
   "metadata": {},
   "outputs": [
    {
     "data": {
      "text/plain": [
       "'87b04e58961f9a99d853d4046a0b5b793e7c3e4bbd21f5aca8fb17c20cdb1d8b'"
      ]
     },
     "execution_count": 4,
     "metadata": {},
     "output_type": "execute_result"
    }
   ],
   "source": [
    "leaf = mt.get_leaf(1)\n",
    "leaf"
   ]
  },
  {
   "cell_type": "markdown",
   "metadata": {},
   "source": [
    "Let's verify that the item at index 1 (the second leaf) indeed hashes to this value:"
   ]
  },
  {
   "cell_type": "code",
   "execution_count": 3,
   "metadata": {},
   "outputs": [
    {
     "data": {
      "text/plain": [
       "'87b04e58961f9a99d853d4046a0b5b793e7c3e4bbd21f5aca8fb17c20cdb1d8b'"
      ]
     },
     "execution_count": 3,
     "metadata": {},
     "output_type": "execute_result"
    }
   ],
   "source": [
    "import hashlib\n",
    "\n",
    "leaf_value=\"stored\"\n",
    "\n",
    "hashlib.sha256(leaf_value.encode('utf-8')).hexdigest()"
   ]
  },
  {
   "cell_type": "markdown",
   "metadata": {},
   "source": [
    "The \"root hash\" of the tree represents a compact cryptographic \"commitment\" to all the values stored in the tree. Anyone can use this root hash to later check if a given value was or was not part of the merkle tree:"
   ]
  },
  {
   "cell_type": "code",
   "execution_count": 5,
   "metadata": {},
   "outputs": [
    {
     "data": {
      "text/plain": [
       "'0ecb1a0ac5a67dddae57135da2ea20c4c8af7039137aa5d8db075c8d099db1d9'"
      ]
     },
     "execution_count": 5,
     "metadata": {},
     "output_type": "execute_result"
    }
   ],
   "source": [
    "merkle_root = mt.get_merkle_root()\n",
    "merkle_root"
   ]
  },
  {
   "cell_type": "markdown",
   "metadata": {},
   "source": [
    "A merkle proof represents the proof that a specific item is part of a given tree (with a given root hash). The proof is nothing more than a list of hashes, namely of all the intermediate nodes that sit between the leaf and the root:"
   ]
  },
  {
   "cell_type": "code",
   "execution_count": 6,
   "metadata": {},
   "outputs": [
    {
     "data": {
      "text/plain": [
       "[{'left': '89445ea08b55421faa49919a5fd272e9a520f701b479d6084847e161ca5b7711'},\n",
       " {'right': '50eeb1643a181dce534c921e839592b443946cb85b657a11efade52485d999ff'},\n",
       " {'right': '487e8e3fb58ea5fc6855763fe7a918bda75f564dd0649d8c6b7aefb6f23bd094'}]"
      ]
     },
     "execution_count": 6,
     "metadata": {},
     "output_type": "execute_result"
    }
   ],
   "source": [
    "merkle_proof = mt.get_proof(1)\n",
    "merkle_proof"
   ]
  },
  {
   "cell_type": "markdown",
   "metadata": {},
   "source": [
    "To verify (or validate) a merkle proof, one provides the proof, the data item one wants to check is part of the tree, and the root hash of the tree:"
   ]
  },
  {
   "cell_type": "code",
   "execution_count": 7,
   "metadata": {},
   "outputs": [
    {
     "data": {
      "text/plain": [
       "True"
      ]
     },
     "execution_count": 7,
     "metadata": {},
     "output_type": "execute_result"
    }
   ],
   "source": [
    "mt.validate_proof(merkle_proof, leaf, merkle_root)"
   ]
  },
  {
   "cell_type": "code",
   "execution_count": 8,
   "metadata": {},
   "outputs": [
    {
     "data": {
      "text/plain": [
       "False"
      ]
     },
     "execution_count": 8,
     "metadata": {},
     "output_type": "execute_result"
    }
   ],
   "source": [
    "invalid = \"invalid item\"\n",
    "h = hashlib.sha256(invalid.encode('utf-8')).hexdigest()\n",
    "mt.validate_proof(merkle_proof, h, merkle_root)"
   ]
  }
 ],
 "metadata": {
  "kernelspec": {
   "display_name": "Python 3.9.6 64-bit",
   "language": "python",
   "name": "python3"
  },
  "language_info": {
   "codemirror_mode": {
    "name": "ipython",
    "version": 3
   },
   "file_extension": ".py",
   "mimetype": "text/x-python",
   "name": "python",
   "nbconvert_exporter": "python",
   "pygments_lexer": "ipython3",
   "version": "3.9.6"
  },
  "orig_nbformat": 4,
  "vscode": {
   "interpreter": {
    "hash": "31f2aee4e71d21fbe5cf8b01ff0e069b9275f58929596ceb00d14d90e3e16cd6"
   }
  }
 },
 "nbformat": 4,
 "nbformat_minor": 2
}
