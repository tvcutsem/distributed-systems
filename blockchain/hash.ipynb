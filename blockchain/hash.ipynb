{
 "cells": [
  {
   "cell_type": "markdown",
   "metadata": {},
   "source": [
    "# Cryptographic hash functions"
   ]
  },
  {
   "cell_type": "code",
   "execution_count": 1,
   "metadata": {},
   "outputs": [],
   "source": [
    "import hashlib\n",
    "import json\n",
    "\n",
    "def hash(str):\n",
    "    return hashlib.sha256(str.encode('utf-8')).hexdigest()"
   ]
  },
  {
   "cell_type": "markdown",
   "metadata": {},
   "source": [
    "SHA-256 produces a 256-bit bitstring (or a 64-digit hex string, as each hex digit represents 4 bits of information):"
   ]
  },
  {
   "cell_type": "code",
   "execution_count": 2,
   "metadata": {},
   "outputs": [
    {
     "data": {
      "text/plain": [
       "'d9197809b4bf019d03a34ff0732aa3fb8db3fa39e81b6bbe79565d9a209671dd'"
      ]
     },
     "execution_count": 2,
     "metadata": {},
     "output_type": "execute_result"
    }
   ],
   "source": [
    "hash(\"the quick brown fox!\")"
   ]
  },
  {
   "cell_type": "markdown",
   "metadata": {},
   "source": [
    "The input to the hash function can be arbitrarily large:"
   ]
  },
  {
   "cell_type": "code",
   "execution_count": 3,
   "metadata": {},
   "outputs": [
    {
     "data": {
      "text/plain": [
       "'9cfd4d0c0f8cb0163c51d7724a7d694d8d71f98ccbaeddb3e78a5ecee9fb18e2'"
      ]
     },
     "execution_count": 3,
     "metadata": {},
     "output_type": "execute_result"
    }
   ],
   "source": [
    "hash(\"\"\"\n",
    "\"And hast thou slain the Jabberwock?\n",
    "Come to my arms, my beamish boy!\n",
    "O frabjous day! Callooh! Callay!\"\n",
    "He chortled in his joy.\n",
    "\n",
    "'Twas brillig, and the slithy toves\n",
    "Did gyre and gimble in the wabe:\n",
    "All mimsy were the borogoves,\n",
    "And the mome raths outgrabe.\n",
    "\"\"\")"
   ]
  },
  {
   "cell_type": "markdown",
   "metadata": {},
   "source": [
    "In blockchain networks, the content of blocks (containing transaction data) is hashed to generate a unique fingerprint for each block (the \"block hash\"):"
   ]
  },
  {
   "cell_type": "code",
   "execution_count": 4,
   "metadata": {},
   "outputs": [
    {
     "data": {
      "text/plain": [
       "'5931706c267d18b40b3d434c613b156d0a937a580cc10227e547fdc6128b233a'"
      ]
     },
     "execution_count": 4,
     "metadata": {},
     "output_type": "execute_result"
    }
   ],
   "source": [
    "block1 = [\n",
    "    {\"from\": \"alice\", \"to\": \"bob\", \"amount\": 10},\n",
    "    {\"from\": \"bob\", \"to\": \"carol\", \"amount\": 10},\n",
    "    {\"from\": \"carol\", \"to\": \"alice\", \"amount\": 5}\n",
    "]\n",
    "\n",
    "block1Hash = hash(json.dumps(block1))\n",
    "block1Hash"
   ]
  },
  {
   "cell_type": "markdown",
   "metadata": {},
   "source": [
    "## Hash pointers"
   ]
  },
  {
   "cell_type": "markdown",
   "metadata": {},
   "source": [
    "Hashes can be used to index into a larger data structure. A blockchain is nothing more than a linked list of blocks, \"glued\" together by hash pointers."
   ]
  },
  {
   "cell_type": "code",
   "execution_count": 5,
   "metadata": {},
   "outputs": [],
   "source": [
    "blocks = dict()\n",
    "blocks[block1Hash] = block1\n",
    "\n",
    "def lookup(id):\n",
    "    return blocks[id]"
   ]
  },
  {
   "attachments": {},
   "cell_type": "markdown",
   "metadata": {},
   "source": [
    "Given only the block hash, we can do two things with it:\n",
    "\n",
    "  1. Use the hash as a unique address to look up the block\n",
    "  2. Use the hash as a digest to ensure we received the \"correct\" data from a remote peer"
   ]
  },
  {
   "cell_type": "code",
   "execution_count": 6,
   "metadata": {},
   "outputs": [],
   "source": [
    "# 1. lookup (in case we need to retrieve a block's data given only its hash)\n",
    "block = lookup(block1Hash)\n",
    "\n",
    "# 2. verify content (in the case where we received block from a remote peer)\n",
    "assert(block1Hash == hash(json.dumps(block)))"
   ]
  }
 ],
 "metadata": {
  "kernelspec": {
   "display_name": "Python 3.9.6 64-bit",
   "language": "python",
   "name": "python3"
  },
  "language_info": {
   "codemirror_mode": {
    "name": "ipython",
    "version": 3
   },
   "file_extension": ".py",
   "mimetype": "text/x-python",
   "name": "python",
   "nbconvert_exporter": "python",
   "pygments_lexer": "ipython3",
   "version": "3.9.6"
  },
  "orig_nbformat": 4,
  "vscode": {
   "interpreter": {
    "hash": "31f2aee4e71d21fbe5cf8b01ff0e069b9275f58929596ceb00d14d90e3e16cd6"
   }
  }
 },
 "nbformat": 4,
 "nbformat_minor": 2
}
